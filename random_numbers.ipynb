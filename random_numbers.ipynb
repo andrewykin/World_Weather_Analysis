{
 "cells": [
  {
   "cell_type": "code",
   "execution_count": 1,
   "id": "29204c3f",
   "metadata": {},
   "outputs": [],
   "source": [
    "# 6.1.4 Generate Random Latitudes and Longitudes\n",
    "# Import the random module.\n",
    "import random"
   ]
  },
  {
   "cell_type": "code",
   "execution_count": 3,
   "id": "6862af21",
   "metadata": {},
   "outputs": [
    {
     "data": {
      "text/plain": [
       "-33"
      ]
     },
     "execution_count": 3,
     "metadata": {},
     "output_type": "execute_result"
    }
   ],
   "source": [
    "# randint() function, single integer between your selection\n",
    "random.randint(-90, 90)"
   ]
  },
  {
   "cell_type": "code",
   "execution_count": 4,
   "id": "8d6e89ae",
   "metadata": {},
   "outputs": [
    {
     "data": {
      "text/plain": [
       "0.8970353849734239"
      ]
     },
     "execution_count": 4,
     "metadata": {},
     "output_type": "execute_result"
    }
   ],
   "source": [
    "# random() function, single floating-point decimal number between 0 and 1.0\n",
    "random.random()"
   ]
  },
  {
   "cell_type": "code",
   "execution_count": 6,
   "id": "3b7ca701",
   "metadata": {},
   "outputs": [
    {
     "data": {
      "text/plain": [
       "-13.772075841672516"
      ]
     },
     "execution_count": 6,
     "metadata": {},
     "output_type": "execute_result"
    }
   ],
   "source": [
    "random_number = random.randint(-90, 89) + random.random()\n",
    "random_number"
   ]
  },
  {
   "cell_type": "code",
   "execution_count": 8,
   "id": "0a2ef959",
   "metadata": {},
   "outputs": [
    {
     "data": {
      "text/plain": [
       "[71.62806870650427,\n",
       " 81.84810395703619,\n",
       " 43.45107340361824,\n",
       " -0.265468753516789,\n",
       " -88.40473911709002,\n",
       " 81.90810823045628,\n",
       " 26.823728081031664,\n",
       " -62.10666308117766,\n",
       " -83.28109916773042,\n",
       " -1.204865654969093]"
      ]
     },
     "execution_count": 8,
     "metadata": {},
     "output_type": "execute_result"
    }
   ],
   "source": [
    "x = 1\n",
    "latitudes = []\n",
    "while x < 11:\n",
    "    random_lat = random.randint(-90, 89) + random.random()\n",
    "    latitudes.append(random_lat)\n",
    "    x += 1\n",
    "\n",
    "latitudes"
   ]
  },
  {
   "cell_type": "code",
   "execution_count": 9,
   "id": "a933e16f",
   "metadata": {},
   "outputs": [
    {
     "data": {
      "text/plain": [
       "16"
      ]
     },
     "execution_count": 9,
     "metadata": {},
     "output_type": "execute_result"
    }
   ],
   "source": [
    "# randrange() function, output is a number between your choices, where the step is the difference between each number in the sequence\n",
    "# if you don't add the step parameter, the output will be a number with an increment of 1, which is the default interger value\n",
    "random.randrange(-90, 90, step = 1)"
   ]
  },
  {
   "cell_type": "code",
   "execution_count": 10,
   "id": "9cfaa53a",
   "metadata": {},
   "outputs": [
    {
     "data": {
      "text/plain": [
       "84"
      ]
     },
     "execution_count": 10,
     "metadata": {},
     "output_type": "execute_result"
    }
   ],
   "source": [
    "random.randrange(-90, 90, step = 3)"
   ]
  },
  {
   "cell_type": "code",
   "execution_count": 11,
   "id": "b4a51a0e",
   "metadata": {},
   "outputs": [
    {
     "data": {
      "text/plain": [
       "43.32575637118845"
      ]
     },
     "execution_count": 11,
     "metadata": {},
     "output_type": "execute_result"
    }
   ],
   "source": [
    "# uniform() function, generate a floating-point decimal number between two given numbers inside the parentheses\n",
    "random.uniform(-90, 90)"
   ]
  },
  {
   "cell_type": "code",
   "execution_count": 12,
   "id": "c2cb9d79",
   "metadata": {},
   "outputs": [],
   "source": [
    "# Import the NumPy module.\n",
    "import numpy as np"
   ]
  },
  {
   "cell_type": "code",
   "execution_count": 13,
   "id": "bc037b07",
   "metadata": {},
   "outputs": [
    {
     "data": {
      "text/plain": [
       "79.570935801588"
      ]
     },
     "execution_count": 13,
     "metadata": {},
     "output_type": "execute_result"
    }
   ],
   "source": [
    "np.random.uniform(-90.000, 90.000)"
   ]
  },
  {
   "cell_type": "code",
   "execution_count": 14,
   "id": "78ca7324",
   "metadata": {},
   "outputs": [
    {
     "data": {
      "text/plain": [
       "array([ -2.38517132, -16.30274722, -84.41303774, -66.39706361,\n",
       "        13.98550939,   3.79701611, -24.98765616, -37.83167254,\n",
       "       -76.36493255,  35.66135879,  70.03812012, -10.41314065,\n",
       "        48.46921548,  39.8573087 , -22.32206984, -59.44636391,\n",
       "       -13.05985825,  54.32166572,  -7.59304771,  -5.46852864,\n",
       "         6.55362608, -56.42715554,  79.18998731,  27.74951336,\n",
       "       -84.12763062,  -4.62968493, -45.65368529,  27.50785107,\n",
       "       -45.89070407,   0.303902  , -47.66745438, -82.37344178,\n",
       "       -82.16481736,  29.04826912,  76.38876296, -31.73423917,\n",
       "        35.2783213 , -21.84539413,  88.08157881, -68.72203585,\n",
       "         6.6338513 ,  -0.49722364, -43.60619395, -31.66274818,\n",
       "        36.35653794, -63.90230033,  70.51833118, -32.79108188,\n",
       "       -48.58451274, -78.10729371])"
      ]
     },
     "execution_count": 14,
     "metadata": {},
     "output_type": "execute_result"
    }
   ],
   "source": [
    "np.random.uniform(-90.000, 90.000, size=50)"
   ]
  },
  {
   "cell_type": "code",
   "execution_count": 15,
   "id": "e6cef3ee",
   "metadata": {},
   "outputs": [],
   "source": [
    "# Import timeit.\n",
    "import timeit"
   ]
  },
  {
   "cell_type": "code",
   "execution_count": 16,
   "id": "5a5a93f2",
   "metadata": {},
   "outputs": [
    {
     "name": "stdout",
     "output_type": "stream",
     "text": [
      "16.1 µs ± 162 ns per loop (mean ± std. dev. of 7 runs, 100000 loops each)\n"
     ]
    }
   ],
   "source": [
    "%timeit np.random.uniform(-90.000, 90.000, size=1500)"
   ]
  },
  {
   "cell_type": "code",
   "execution_count": 17,
   "id": "9d09f51e",
   "metadata": {},
   "outputs": [
    {
     "name": "stdout",
     "output_type": "stream",
     "text": [
      "2.45 ms ± 73.4 µs per loop (mean ± std. dev. of 7 runs, 100 loops each)\n"
     ]
    }
   ],
   "source": [
    "def latitudes(size):\n",
    "    latitudes = []\n",
    "    x = 0\n",
    "    while x < (size):\n",
    "        random_lat = random.randint(-90, 90) + random.random()\n",
    "        latitudes.append(random_lat)\n",
    "        x += 1\n",
    "    return latitudes\n",
    "# Call the function with 1500.\n",
    "%timeit latitudes(1500)\n"
   ]
  },
  {
   "cell_type": "code",
   "execution_count": 18,
   "id": "98554e99",
   "metadata": {},
   "outputs": [],
   "source": [
    "# Skill Drill - refactor the code for the while loop with the %timeit magic command and write \n",
    "# a for loop that will generate the 1,500 latitudes"
   ]
  },
  {
   "cell_type": "code",
   "execution_count": null,
   "id": "d4b11467",
   "metadata": {},
   "outputs": [],
   "source": []
  }
 ],
 "metadata": {
  "kernelspec": {
   "display_name": "PythonData",
   "language": "python",
   "name": "pythondata"
  },
  "language_info": {
   "codemirror_mode": {
    "name": "ipython",
    "version": 3
   },
   "file_extension": ".py",
   "mimetype": "text/x-python",
   "name": "python",
   "nbconvert_exporter": "python",
   "pygments_lexer": "ipython3",
   "version": "3.7.13"
  }
 },
 "nbformat": 4,
 "nbformat_minor": 5
}
